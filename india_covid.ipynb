{
 "cells": [
  {
   "cell_type": "markdown",
   "id": "af304a41",
   "metadata": {},
   "source": [
    "# Exploratory Data Analysis of India's official COVID-19 data"
   ]
  },
  {
   "cell_type": "code",
   "execution_count": 1,
   "id": "fb5a3d96",
   "metadata": {},
   "outputs": [],
   "source": [
    "import json\n",
    "import requests\n",
    "\n",
    "import pandas as pd\n",
    "import matplotlib.pyplot as plt\n",
    "import seaborn as sns"
   ]
  },
  {
   "cell_type": "markdown",
   "id": "76bb05d2",
   "metadata": {},
   "source": [
    "# Data source\n",
    "Covid data in JSON format is obtained from this URL: [https://www.mohfw.gov.in/data/datanew.json](https://mohfw.gov.in/data/datanew.json)\n",
    "\n",
    "Output data from this URL is a list of objects"
   ]
  },
  {
   "cell_type": "code",
   "execution_count": 2,
   "id": "b6367152",
   "metadata": {},
   "outputs": [],
   "source": [
    "covid_data_url = \"https://www.mohfw.gov.in/data/datanew.json\"\n",
    "\n",
    "# Output data from this URL is JSON (List of objects)"
   ]
  },
  {
   "cell_type": "code",
   "execution_count": 3,
   "id": "258e7e4a",
   "metadata": {},
   "outputs": [],
   "source": [
    "response = requests.get(covid_data_url)"
   ]
  },
  {
   "cell_type": "code",
   "execution_count": 4,
   "id": "a81c4bb2",
   "metadata": {},
   "outputs": [],
   "source": [
    "covid_data = json.loads(response.content)"
   ]
  },
  {
   "cell_type": "code",
   "execution_count": 5,
   "id": "33148295",
   "metadata": {},
   "outputs": [],
   "source": [
    "df = pd.DataFrame.from_records(covid_data)"
   ]
  },
  {
   "cell_type": "code",
   "execution_count": 6,
   "id": "225cd539",
   "metadata": {},
   "outputs": [
    {
     "data": {
      "text/html": [
       "<div>\n",
       "<style scoped>\n",
       "    .dataframe tbody tr th:only-of-type {\n",
       "        vertical-align: middle;\n",
       "    }\n",
       "\n",
       "    .dataframe tbody tr th {\n",
       "        vertical-align: top;\n",
       "    }\n",
       "\n",
       "    .dataframe thead th {\n",
       "        text-align: right;\n",
       "    }\n",
       "</style>\n",
       "<table border=\"1\" class=\"dataframe\">\n",
       "  <thead>\n",
       "    <tr style=\"text-align: right;\">\n",
       "      <th></th>\n",
       "      <th>sno</th>\n",
       "      <th>state_name</th>\n",
       "      <th>active</th>\n",
       "      <th>positive</th>\n",
       "      <th>cured</th>\n",
       "      <th>death</th>\n",
       "      <th>new_active</th>\n",
       "      <th>new_positive</th>\n",
       "      <th>new_cured</th>\n",
       "      <th>new_death</th>\n",
       "      <th>state_code</th>\n",
       "    </tr>\n",
       "  </thead>\n",
       "  <tbody>\n",
       "    <tr>\n",
       "      <th>0</th>\n",
       "      <td>2</td>\n",
       "      <td>Andaman and Nicobar Islands</td>\n",
       "      <td>16</td>\n",
       "      <td>7510</td>\n",
       "      <td>7365</td>\n",
       "      <td>129</td>\n",
       "      <td>19</td>\n",
       "      <td>7516</td>\n",
       "      <td>7368</td>\n",
       "      <td>129</td>\n",
       "      <td>35</td>\n",
       "    </tr>\n",
       "    <tr>\n",
       "      <th>1</th>\n",
       "      <td>1</td>\n",
       "      <td>Andhra Pradesh</td>\n",
       "      <td>24708</td>\n",
       "      <td>1940096</td>\n",
       "      <td>1902256</td>\n",
       "      <td>13132</td>\n",
       "      <td>23570</td>\n",
       "      <td>1941724</td>\n",
       "      <td>1905000</td>\n",
       "      <td>13154</td>\n",
       "      <td>28</td>\n",
       "    </tr>\n",
       "    <tr>\n",
       "      <th>2</th>\n",
       "      <td>3</td>\n",
       "      <td>Arunachal Pradesh</td>\n",
       "      <td>4211</td>\n",
       "      <td>42820</td>\n",
       "      <td>38407</td>\n",
       "      <td>202</td>\n",
       "      <td>4260</td>\n",
       "      <td>43328</td>\n",
       "      <td>38865</td>\n",
       "      <td>203</td>\n",
       "      <td>12</td>\n",
       "    </tr>\n",
       "    <tr>\n",
       "      <th>3</th>\n",
       "      <td>4</td>\n",
       "      <td>Assam</td>\n",
       "      <td>17815</td>\n",
       "      <td>547283</td>\n",
       "      <td>524469</td>\n",
       "      <td>4999</td>\n",
       "      <td>17454</td>\n",
       "      <td>549080</td>\n",
       "      <td>526607</td>\n",
       "      <td>5019</td>\n",
       "      <td>18</td>\n",
       "    </tr>\n",
       "    <tr>\n",
       "      <th>4</th>\n",
       "      <td>5</td>\n",
       "      <td>Bihar</td>\n",
       "      <td>725</td>\n",
       "      <td>723945</td>\n",
       "      <td>713591</td>\n",
       "      <td>9629</td>\n",
       "      <td>680</td>\n",
       "      <td>723999</td>\n",
       "      <td>713689</td>\n",
       "      <td>9630</td>\n",
       "      <td>10</td>\n",
       "    </tr>\n",
       "  </tbody>\n",
       "</table>\n",
       "</div>"
      ],
      "text/plain": [
       "  sno                   state_name active positive    cured  death new_active  \\\n",
       "0   2  Andaman and Nicobar Islands     16     7510     7365    129         19   \n",
       "1   1               Andhra Pradesh  24708  1940096  1902256  13132      23570   \n",
       "2   3            Arunachal Pradesh   4211    42820    38407    202       4260   \n",
       "3   4                        Assam  17815   547283   524469   4999      17454   \n",
       "4   5                        Bihar    725   723945   713591   9629        680   \n",
       "\n",
       "  new_positive new_cured new_death state_code  \n",
       "0         7516      7368       129         35  \n",
       "1      1941724   1905000     13154         28  \n",
       "2        43328     38865       203         12  \n",
       "3       549080    526607      5019         18  \n",
       "4       723999    713689      9630         10  "
      ]
     },
     "execution_count": 6,
     "metadata": {},
     "output_type": "execute_result"
    }
   ],
   "source": [
    "df.head(5)"
   ]
  },
  {
   "cell_type": "code",
   "execution_count": 7,
   "id": "e70640f8",
   "metadata": {},
   "outputs": [
    {
     "data": {
      "text/html": [
       "<div>\n",
       "<style scoped>\n",
       "    .dataframe tbody tr th:only-of-type {\n",
       "        vertical-align: middle;\n",
       "    }\n",
       "\n",
       "    .dataframe tbody tr th {\n",
       "        vertical-align: top;\n",
       "    }\n",
       "\n",
       "    .dataframe thead th {\n",
       "        text-align: right;\n",
       "    }\n",
       "</style>\n",
       "<table border=\"1\" class=\"dataframe\">\n",
       "  <thead>\n",
       "    <tr style=\"text-align: right;\">\n",
       "      <th></th>\n",
       "      <th>sno</th>\n",
       "      <th>state_name</th>\n",
       "      <th>active</th>\n",
       "      <th>positive</th>\n",
       "      <th>cured</th>\n",
       "      <th>death</th>\n",
       "      <th>new_active</th>\n",
       "      <th>new_positive</th>\n",
       "      <th>new_cured</th>\n",
       "      <th>new_death</th>\n",
       "      <th>state_code</th>\n",
       "    </tr>\n",
       "  </thead>\n",
       "  <tbody>\n",
       "    <tr>\n",
       "      <th>32</th>\n",
       "      <td>33</td>\n",
       "      <td>Tripura</td>\n",
       "      <td>4314</td>\n",
       "      <td>73901</td>\n",
       "      <td>68859</td>\n",
       "      <td>728</td>\n",
       "      <td>4391</td>\n",
       "      <td>74389</td>\n",
       "      <td>69269</td>\n",
       "      <td>729</td>\n",
       "      <td>16</td>\n",
       "    </tr>\n",
       "    <tr>\n",
       "      <th>33</th>\n",
       "      <td>35</td>\n",
       "      <td>Uttarakhand</td>\n",
       "      <td>623</td>\n",
       "      <td>341452</td>\n",
       "      <td>333473</td>\n",
       "      <td>7356</td>\n",
       "      <td>604</td>\n",
       "      <td>341486</td>\n",
       "      <td>333525</td>\n",
       "      <td>7357</td>\n",
       "      <td>05</td>\n",
       "    </tr>\n",
       "    <tr>\n",
       "      <th>34</th>\n",
       "      <td>36</td>\n",
       "      <td>Uttar Pradesh</td>\n",
       "      <td>1262</td>\n",
       "      <td>1707847</td>\n",
       "      <td>1683866</td>\n",
       "      <td>22719</td>\n",
       "      <td>1188</td>\n",
       "      <td>1707884</td>\n",
       "      <td>1683968</td>\n",
       "      <td>22728</td>\n",
       "      <td>09</td>\n",
       "    </tr>\n",
       "    <tr>\n",
       "      <th>35</th>\n",
       "      <td>37</td>\n",
       "      <td>West Bengal</td>\n",
       "      <td>13111</td>\n",
       "      <td>1518181</td>\n",
       "      <td>1487071</td>\n",
       "      <td>17999</td>\n",
       "      <td>12759</td>\n",
       "      <td>1518847</td>\n",
       "      <td>1488077</td>\n",
       "      <td>18011</td>\n",
       "      <td>19</td>\n",
       "    </tr>\n",
       "    <tr>\n",
       "      <th>36</th>\n",
       "      <td>11111</td>\n",
       "      <td></td>\n",
       "      <td>421665</td>\n",
       "      <td>31144229</td>\n",
       "      <td>30308456</td>\n",
       "      <td>414108</td>\n",
       "      <td>406130</td>\n",
       "      <td>31174322</td>\n",
       "      <td>30353710</td>\n",
       "      <td>414482</td>\n",
       "      <td></td>\n",
       "    </tr>\n",
       "  </tbody>\n",
       "</table>\n",
       "</div>"
      ],
      "text/plain": [
       "      sno     state_name  active  positive     cured   death new_active  \\\n",
       "32     33        Tripura    4314     73901     68859     728       4391   \n",
       "33     35    Uttarakhand     623    341452    333473    7356        604   \n",
       "34     36  Uttar Pradesh    1262   1707847   1683866   22719       1188   \n",
       "35     37    West Bengal   13111   1518181   1487071   17999      12759   \n",
       "36  11111                 421665  31144229  30308456  414108     406130   \n",
       "\n",
       "   new_positive new_cured new_death state_code  \n",
       "32        74389     69269       729         16  \n",
       "33       341486    333525      7357         05  \n",
       "34      1707884   1683968     22728         09  \n",
       "35      1518847   1488077     18011         19  \n",
       "36     31174322  30353710    414482             "
      ]
     },
     "execution_count": 7,
     "metadata": {},
     "output_type": "execute_result"
    }
   ],
   "source": [
    "df.tail(5)"
   ]
  },
  {
   "cell_type": "code",
   "execution_count": 8,
   "id": "68607212",
   "metadata": {},
   "outputs": [
    {
     "data": {
      "text/plain": [
       "(37, 11)"
      ]
     },
     "execution_count": 8,
     "metadata": {},
     "output_type": "execute_result"
    }
   ],
   "source": [
    "df.shape"
   ]
  },
  {
   "cell_type": "code",
   "execution_count": 9,
   "id": "f86ef527",
   "metadata": {},
   "outputs": [
    {
     "name": "stdout",
     "output_type": "stream",
     "text": [
      "Number of states: 37\n",
      "['Andaman and Nicobar Islands', 'Andhra Pradesh', 'Arunachal Pradesh', 'Assam', 'Bihar', 'Chandigarh', 'Chhattisgarh', 'Dadra and Nagar Haveli and Daman and Diu', 'Delhi', 'Goa', 'Gujarat', 'Haryana', 'Himanchal Pradesh', 'Jammu and Kashmir', 'Jharkhand', 'Karanataka', 'Kerala', 'Ladakh', 'Lakshadweep', 'Madhya Pradesh', 'Maharashtra', 'Manipur', 'Meghalaya', 'Mizoram', 'Nagaland', 'Odisha', 'Puducherry', 'Punjab', 'Rajasthan', 'Sikkim', 'Tamil Nadu', 'Telangana', 'Tripura', 'Uttarakhand', 'Uttar Pradesh', 'West Bengal', '']\n"
     ]
    }
   ],
   "source": [
    "list_of_states = list(df['state_name'].unique())\n",
    "print(f\"Number of states: {len(list_of_states)}\")\n",
    "print(list_of_states)"
   ]
  },
  {
   "cell_type": "code",
   "execution_count": 10,
   "id": "25783992",
   "metadata": {},
   "outputs": [],
   "source": [
    "df.drop(['sno', 'state_code'], axis=1, inplace=True) # Drop uninteresting columns\n",
    "df.drop(['new_active', 'new_positive', 'new_cured', 'new_death'], axis=1, inplace=True) # Let's ignore the new* columns for now\n",
    "df.drop(36, axis=0, inplace=True) # Drop uninteresting rows"
   ]
  },
  {
   "cell_type": "code",
   "execution_count": 11,
   "id": "ca871e4d",
   "metadata": {},
   "outputs": [
    {
     "data": {
      "text/plain": [
       "state_name    object\n",
       "active        object\n",
       "positive      object\n",
       "cured         object\n",
       "death         object\n",
       "dtype: object"
      ]
     },
     "execution_count": 11,
     "metadata": {},
     "output_type": "execute_result"
    }
   ],
   "source": [
    "df.dtypes"
   ]
  },
  {
   "cell_type": "code",
   "execution_count": 12,
   "id": "cd1088d4",
   "metadata": {},
   "outputs": [],
   "source": [
    "# Convert all columns except state_name into integers\n",
    "\n",
    "all_columns = list(df.columns)\n",
    "int_columns = list(filter(lambda x: x != 'state_name', all_columns))"
   ]
  },
  {
   "cell_type": "code",
   "execution_count": 13,
   "id": "25bb7ca8",
   "metadata": {},
   "outputs": [],
   "source": [
    "for column in int_columns:\n",
    "    df[column] = pd.to_numeric(df[column], downcast='integer')"
   ]
  },
  {
   "cell_type": "code",
   "execution_count": 14,
   "id": "15c5f5d5",
   "metadata": {},
   "outputs": [
    {
     "data": {
      "text/plain": [
       "state_name    object\n",
       "active         int32\n",
       "positive       int32\n",
       "cured          int32\n",
       "death          int32\n",
       "dtype: object"
      ]
     },
     "execution_count": 14,
     "metadata": {},
     "output_type": "execute_result"
    }
   ],
   "source": [
    "df.dtypes"
   ]
  },
  {
   "cell_type": "code",
   "execution_count": 23,
   "id": "19928859",
   "metadata": {},
   "outputs": [
    {
     "data": {
      "text/plain": [
       "<AxesSubplot:>"
      ]
     },
     "execution_count": 23,
     "metadata": {},
     "output_type": "execute_result"
    },
    {
     "data": {
      "image/png": "[encoded data removed]",
      "text/plain": [
       "<Figure size 864x576 with 2 Axes>"
      ]
     },
     "metadata": {
      "needs_background": "light"
     },
     "output_type": "display_data"
    }
   ],
   "source": [
    "plt.rcParams['font.size'] = 22\n",
    "plt.figure(figsize=(12, 8))\n",
    "sns.heatmap(df.corr(), cmap='YlGnBu')"
   ]
  },
  {
   "cell_type": "code",
   "execution_count": 38,
   "id": "b34f033f",
   "metadata": {},
   "outputs": [
    {
     "data": {
      "image/png": "[encoded data removed]",
      "text/plain": [
       "<Figure size 1152x720 with 4 Axes>"
      ]
     },
     "metadata": {
      "needs_background": "light"
     },
     "output_type": "display_data"
    }
   ],
   "source": [
    "fig, axs = plt.subplots(len(int_columns))\n",
    "fig.tight_layout()\n",
    "for i in range(len(int_columns)):\n",
    "    column = int_columns[i]\n",
    "    sns.boxplot(ax=axs[i], x=df[column])"
   ]
  },
  {
   "cell_type": "markdown",
   "id": "01b3cf90",
   "metadata": {},
   "source": [
    "There seem to be outliers in all columns"
   ]
  },
  {
   "cell_type": "code",
   "execution_count": 17,
   "id": "eebe7dc9",
   "metadata": {},
   "outputs": [
    {
     "data": {
      "text/html": [
       "<div>\n",
       "<style scoped>\n",
       "    .dataframe tbody tr th:only-of-type {\n",
       "        vertical-align: middle;\n",
       "    }\n",
       "\n",
       "    .dataframe tbody tr th {\n",
       "        vertical-align: top;\n",
       "    }\n",
       "\n",
       "    .dataframe thead th {\n",
       "        text-align: right;\n",
       "    }\n",
       "</style>\n",
       "<table border=\"1\" class=\"dataframe\">\n",
       "  <thead>\n",
       "    <tr style=\"text-align: right;\">\n",
       "      <th></th>\n",
       "      <th>state_name</th>\n",
       "      <th>active</th>\n",
       "      <th>positive</th>\n",
       "      <th>cured</th>\n",
       "      <th>death</th>\n",
       "    </tr>\n",
       "  </thead>\n",
       "  <tbody>\n",
       "    <tr>\n",
       "      <th>16</th>\n",
       "      <td>Kerala</td>\n",
       "      <td>125535</td>\n",
       "      <td>3160937</td>\n",
       "      <td>3020052</td>\n",
       "      <td>15350</td>\n",
       "    </tr>\n",
       "    <tr>\n",
       "      <th>20</th>\n",
       "      <td>Maharashtra</td>\n",
       "      <td>106809</td>\n",
       "      <td>6214190</td>\n",
       "      <td>5980350</td>\n",
       "      <td>127031</td>\n",
       "    </tr>\n",
       "    <tr>\n",
       "      <th>15</th>\n",
       "      <td>Karanataka</td>\n",
       "      <td>29314</td>\n",
       "      <td>2883947</td>\n",
       "      <td>2818476</td>\n",
       "      <td>36157</td>\n",
       "    </tr>\n",
       "    <tr>\n",
       "      <th>30</th>\n",
       "      <td>Tamil Nadu</td>\n",
       "      <td>27897</td>\n",
       "      <td>2535402</td>\n",
       "      <td>2473781</td>\n",
       "      <td>33724</td>\n",
       "    </tr>\n",
       "    <tr>\n",
       "      <th>1</th>\n",
       "      <td>Andhra Pradesh</td>\n",
       "      <td>24708</td>\n",
       "      <td>1940096</td>\n",
       "      <td>1902256</td>\n",
       "      <td>13132</td>\n",
       "    </tr>\n",
       "  </tbody>\n",
       "</table>\n",
       "</div>"
      ],
      "text/plain": [
       "        state_name  active  positive    cured   death\n",
       "16          Kerala  125535   3160937  3020052   15350\n",
       "20     Maharashtra  106809   6214190  5980350  127031\n",
       "15      Karanataka   29314   2883947  2818476   36157\n",
       "30      Tamil Nadu   27897   2535402  2473781   33724\n",
       "1   Andhra Pradesh   24708   1940096  1902256   13132"
      ]
     },
     "execution_count": 17,
     "metadata": {},
     "output_type": "execute_result"
    }
   ],
   "source": [
    "df.sort_values(by='active', axis=0, ascending=False).head(5)"
   ]
  },
  {
   "cell_type": "code",
   "execution_count": 39,
   "id": "aad592fd",
   "metadata": {},
   "outputs": [
    {
     "data": {
      "text/html": [
       "<div>\n",
       "<style scoped>\n",
       "    .dataframe tbody tr th:only-of-type {\n",
       "        vertical-align: middle;\n",
       "    }\n",
       "\n",
       "    .dataframe tbody tr th {\n",
       "        vertical-align: top;\n",
       "    }\n",
       "\n",
       "    .dataframe thead th {\n",
       "        text-align: right;\n",
       "    }\n",
       "</style>\n",
       "<table border=\"1\" class=\"dataframe\">\n",
       "  <thead>\n",
       "    <tr style=\"text-align: right;\">\n",
       "      <th></th>\n",
       "      <th>state_name</th>\n",
       "      <th>active</th>\n",
       "      <th>positive</th>\n",
       "      <th>cured</th>\n",
       "      <th>death</th>\n",
       "    </tr>\n",
       "  </thead>\n",
       "  <tbody>\n",
       "    <tr>\n",
       "      <th>20</th>\n",
       "      <td>Maharashtra</td>\n",
       "      <td>106809</td>\n",
       "      <td>6214190</td>\n",
       "      <td>5980350</td>\n",
       "      <td>127031</td>\n",
       "    </tr>\n",
       "    <tr>\n",
       "      <th>16</th>\n",
       "      <td>Kerala</td>\n",
       "      <td>125535</td>\n",
       "      <td>3160937</td>\n",
       "      <td>3020052</td>\n",
       "      <td>15350</td>\n",
       "    </tr>\n",
       "    <tr>\n",
       "      <th>15</th>\n",
       "      <td>Karanataka</td>\n",
       "      <td>29314</td>\n",
       "      <td>2883947</td>\n",
       "      <td>2818476</td>\n",
       "      <td>36157</td>\n",
       "    </tr>\n",
       "    <tr>\n",
       "      <th>30</th>\n",
       "      <td>Tamil Nadu</td>\n",
       "      <td>27897</td>\n",
       "      <td>2535402</td>\n",
       "      <td>2473781</td>\n",
       "      <td>33724</td>\n",
       "    </tr>\n",
       "    <tr>\n",
       "      <th>1</th>\n",
       "      <td>Andhra Pradesh</td>\n",
       "      <td>24708</td>\n",
       "      <td>1940096</td>\n",
       "      <td>1902256</td>\n",
       "      <td>13132</td>\n",
       "    </tr>\n",
       "  </tbody>\n",
       "</table>\n",
       "</div>"
      ],
      "text/plain": [
       "        state_name  active  positive    cured   death\n",
       "20     Maharashtra  106809   6214190  5980350  127031\n",
       "16          Kerala  125535   3160937  3020052   15350\n",
       "15      Karanataka   29314   2883947  2818476   36157\n",
       "30      Tamil Nadu   27897   2535402  2473781   33724\n",
       "1   Andhra Pradesh   24708   1940096  1902256   13132"
      ]
     },
     "execution_count": 39,
     "metadata": {},
     "output_type": "execute_result"
    }
   ],
   "source": [
    "df.sort_values(by='positive', axis=0, ascending=False).head(5)"
   ]
  },
  {
   "cell_type": "code",
   "execution_count": 40,
   "id": "725564e3",
   "metadata": {},
   "outputs": [
    {
     "data": {
      "text/html": [
       "<div>\n",
       "<style scoped>\n",
       "    .dataframe tbody tr th:only-of-type {\n",
       "        vertical-align: middle;\n",
       "    }\n",
       "\n",
       "    .dataframe tbody tr th {\n",
       "        vertical-align: top;\n",
       "    }\n",
       "\n",
       "    .dataframe thead th {\n",
       "        text-align: right;\n",
       "    }\n",
       "</style>\n",
       "<table border=\"1\" class=\"dataframe\">\n",
       "  <thead>\n",
       "    <tr style=\"text-align: right;\">\n",
       "      <th></th>\n",
       "      <th>state_name</th>\n",
       "      <th>active</th>\n",
       "      <th>positive</th>\n",
       "      <th>cured</th>\n",
       "      <th>death</th>\n",
       "    </tr>\n",
       "  </thead>\n",
       "  <tbody>\n",
       "    <tr>\n",
       "      <th>20</th>\n",
       "      <td>Maharashtra</td>\n",
       "      <td>106809</td>\n",
       "      <td>6214190</td>\n",
       "      <td>5980350</td>\n",
       "      <td>127031</td>\n",
       "    </tr>\n",
       "    <tr>\n",
       "      <th>16</th>\n",
       "      <td>Kerala</td>\n",
       "      <td>125535</td>\n",
       "      <td>3160937</td>\n",
       "      <td>3020052</td>\n",
       "      <td>15350</td>\n",
       "    </tr>\n",
       "    <tr>\n",
       "      <th>15</th>\n",
       "      <td>Karanataka</td>\n",
       "      <td>29314</td>\n",
       "      <td>2883947</td>\n",
       "      <td>2818476</td>\n",
       "      <td>36157</td>\n",
       "    </tr>\n",
       "    <tr>\n",
       "      <th>30</th>\n",
       "      <td>Tamil Nadu</td>\n",
       "      <td>27897</td>\n",
       "      <td>2535402</td>\n",
       "      <td>2473781</td>\n",
       "      <td>33724</td>\n",
       "    </tr>\n",
       "    <tr>\n",
       "      <th>1</th>\n",
       "      <td>Andhra Pradesh</td>\n",
       "      <td>24708</td>\n",
       "      <td>1940096</td>\n",
       "      <td>1902256</td>\n",
       "      <td>13132</td>\n",
       "    </tr>\n",
       "  </tbody>\n",
       "</table>\n",
       "</div>"
      ],
      "text/plain": [
       "        state_name  active  positive    cured   death\n",
       "20     Maharashtra  106809   6214190  5980350  127031\n",
       "16          Kerala  125535   3160937  3020052   15350\n",
       "15      Karanataka   29314   2883947  2818476   36157\n",
       "30      Tamil Nadu   27897   2535402  2473781   33724\n",
       "1   Andhra Pradesh   24708   1940096  1902256   13132"
      ]
     },
     "execution_count": 40,
     "metadata": {},
     "output_type": "execute_result"
    }
   ],
   "source": [
    "df.sort_values(by='cured', axis=0, ascending=False).head(5)"
   ]
  },
  {
   "cell_type": "code",
   "execution_count": 41,
   "id": "e3e60a50",
   "metadata": {},
   "outputs": [
    {
     "data": {
      "text/html": [
       "<div>\n",
       "<style scoped>\n",
       "    .dataframe tbody tr th:only-of-type {\n",
       "        vertical-align: middle;\n",
       "    }\n",
       "\n",
       "    .dataframe tbody tr th {\n",
       "        vertical-align: top;\n",
       "    }\n",
       "\n",
       "    .dataframe thead th {\n",
       "        text-align: right;\n",
       "    }\n",
       "</style>\n",
       "<table border=\"1\" class=\"dataframe\">\n",
       "  <thead>\n",
       "    <tr style=\"text-align: right;\">\n",
       "      <th></th>\n",
       "      <th>state_name</th>\n",
       "      <th>active</th>\n",
       "      <th>positive</th>\n",
       "      <th>cured</th>\n",
       "      <th>death</th>\n",
       "    </tr>\n",
       "  </thead>\n",
       "  <tbody>\n",
       "    <tr>\n",
       "      <th>20</th>\n",
       "      <td>Maharashtra</td>\n",
       "      <td>106809</td>\n",
       "      <td>6214190</td>\n",
       "      <td>5980350</td>\n",
       "      <td>127031</td>\n",
       "    </tr>\n",
       "    <tr>\n",
       "      <th>15</th>\n",
       "      <td>Karanataka</td>\n",
       "      <td>29314</td>\n",
       "      <td>2883947</td>\n",
       "      <td>2818476</td>\n",
       "      <td>36157</td>\n",
       "    </tr>\n",
       "    <tr>\n",
       "      <th>30</th>\n",
       "      <td>Tamil Nadu</td>\n",
       "      <td>27897</td>\n",
       "      <td>2535402</td>\n",
       "      <td>2473781</td>\n",
       "      <td>33724</td>\n",
       "    </tr>\n",
       "    <tr>\n",
       "      <th>8</th>\n",
       "      <td>Delhi</td>\n",
       "      <td>592</td>\n",
       "      <td>1435529</td>\n",
       "      <td>1409910</td>\n",
       "      <td>25027</td>\n",
       "    </tr>\n",
       "    <tr>\n",
       "      <th>34</th>\n",
       "      <td>Uttar Pradesh</td>\n",
       "      <td>1262</td>\n",
       "      <td>1707847</td>\n",
       "      <td>1683866</td>\n",
       "      <td>22719</td>\n",
       "    </tr>\n",
       "  </tbody>\n",
       "</table>\n",
       "</div>"
      ],
      "text/plain": [
       "       state_name  active  positive    cured   death\n",
       "20    Maharashtra  106809   6214190  5980350  127031\n",
       "15     Karanataka   29314   2883947  2818476   36157\n",
       "30     Tamil Nadu   27897   2535402  2473781   33724\n",
       "8           Delhi     592   1435529  1409910   25027\n",
       "34  Uttar Pradesh    1262   1707847  1683866   22719"
      ]
     },
     "execution_count": 41,
     "metadata": {},
     "output_type": "execute_result"
    }
   ],
   "source": [
    "df.sort_values(by='death', axis=0, ascending=False).head(5)"
   ]
  }
 ],
 "metadata": {
  "kernelspec": {
   "display_name": "Python 3 (ipykernel)",
   "language": "python",
   "name": "python3"
  },
  "language_info": {
   "codemirror_mode": {
    "name": "ipython",
    "version": 3
   },
   "file_extension": ".py",
   "mimetype": "text/x-python",
   "name": "python",
   "nbconvert_exporter": "python",
   "pygments_lexer": "ipython3",
   "version": "3.9.5"
  }
 },
 "nbformat": 4,
 "nbformat_minor": 5
}
